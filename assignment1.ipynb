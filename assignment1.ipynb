{
 "cells": [
  {
   "cell_type": "code",
   "execution_count": 1,
   "id": "f2ac7b1f-540a-4646-821b-772f0cfcb459",
   "metadata": {},
   "outputs": [
    {
     "data": {
      "text/plain": [
       "'Write a program to convert specified days into years, weeks and days. Take user input.\\nNote: Ignore leap year'"
      ]
     },
     "execution_count": 1,
     "metadata": {},
     "output_type": "execute_result"
    }
   ],
   "source": [
    "#1\n",
    "'''Write a program to convert specified days into years, weeks and days. Take user input.\n",
    "Note: Ignore leap year'''"
   ]
  },
  {
   "cell_type": "code",
   "execution_count": 5,
   "id": "b4debf29-5501-43f6-8ca1-01ddba86c5c5",
   "metadata": {},
   "outputs": [
    {
     "name": "stdin",
     "output_type": "stream",
     "text": [
      "Enter number of days 465\n"
     ]
    },
    {
     "name": "stdout",
     "output_type": "stream",
     "text": [
      "year =  1   week =  66   days =  465\n"
     ]
    }
   ],
   "source": [
    "days = int(input('Enter number of days'))\n",
    "year = days//365\n",
    "week=days//7\n",
    "print('year = ',year,'  week = ',week,'  days = ',days)"
   ]
  },
  {
   "cell_type": "code",
   "execution_count": null,
   "id": "c4b5f8c2-9f6d-4b58-b146-168503147bb6",
   "metadata": {},
   "outputs": [],
   "source": []
  }
 ],
 "metadata": {
  "kernelspec": {
   "display_name": "Python 3 (ipykernel)",
   "language": "python",
   "name": "python3"
  },
  "language_info": {
   "codemirror_mode": {
    "name": "ipython",
    "version": 3
   },
   "file_extension": ".py",
   "mimetype": "text/x-python",
   "name": "python",
   "nbconvert_exporter": "python",
   "pygments_lexer": "ipython3",
   "version": "3.11.7"
  }
 },
 "nbformat": 4,
 "nbformat_minor": 5
}
